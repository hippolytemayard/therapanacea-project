{
 "cells": [
  {
   "cell_type": "code",
   "execution_count": 1,
   "id": "d7312cd9-baf3-4508-9776-28cafac4b1bb",
   "metadata": {},
   "outputs": [],
   "source": [
    "%load_ext autoreload\n",
    "%autoreload 2"
   ]
  },
  {
   "cell_type": "markdown",
   "id": "c081760a-ffd0-4ae5-bcad-4310dc966b15",
   "metadata": {},
   "source": [
    "# Results resnet18"
   ]
  },
  {
   "cell_type": "code",
   "execution_count": 18,
   "id": "e4038243-006a-47cc-9d69-2048aa2e9463",
   "metadata": {},
   "outputs": [
    {
     "data": {
      "text/html": [
       "<div>\n",
       "<style scoped>\n",
       "    .dataframe tbody tr th:only-of-type {\n",
       "        vertical-align: middle;\n",
       "    }\n",
       "\n",
       "    .dataframe tbody tr th {\n",
       "        vertical-align: top;\n",
       "    }\n",
       "\n",
       "    .dataframe thead th {\n",
       "        text-align: right;\n",
       "    }\n",
       "</style>\n",
       "<table border=\"1\" class=\"dataframe\">\n",
       "  <thead>\n",
       "    <tr style=\"text-align: right;\">\n",
       "      <th></th>\n",
       "      <th>far</th>\n",
       "      <th>frr</th>\n",
       "      <th>hter</th>\n",
       "    </tr>\n",
       "    <tr>\n",
       "      <th>fold</th>\n",
       "      <th></th>\n",
       "      <th></th>\n",
       "      <th></th>\n",
       "    </tr>\n",
       "  </thead>\n",
       "  <tbody>\n",
       "    <tr>\n",
       "      <th>best_model_fold4.pt</th>\n",
       "      <td>0.104089</td>\n",
       "      <td>0.088685</td>\n",
       "      <td>0.096387</td>\n",
       "    </tr>\n",
       "    <tr>\n",
       "      <th>best_model_fold0.pt</th>\n",
       "      <td>0.081818</td>\n",
       "      <td>0.105063</td>\n",
       "      <td>0.093440</td>\n",
       "    </tr>\n",
       "    <tr>\n",
       "      <th>best_model_fold1.pt</th>\n",
       "      <td>0.076033</td>\n",
       "      <td>0.119568</td>\n",
       "      <td>0.097800</td>\n",
       "    </tr>\n",
       "    <tr>\n",
       "      <th>best_model_fold2.pt</th>\n",
       "      <td>0.076446</td>\n",
       "      <td>0.119909</td>\n",
       "      <td>0.098178</td>\n",
       "    </tr>\n",
       "    <tr>\n",
       "      <th>best_model_fold3.pt</th>\n",
       "      <td>0.078067</td>\n",
       "      <td>0.105410</td>\n",
       "      <td>0.091738</td>\n",
       "    </tr>\n",
       "  </tbody>\n",
       "</table>\n",
       "</div>"
      ],
      "text/plain": [
       "                          far       frr      hter\n",
       "fold                                             \n",
       "best_model_fold4.pt  0.104089  0.088685  0.096387\n",
       "best_model_fold0.pt  0.081818  0.105063  0.093440\n",
       "best_model_fold1.pt  0.076033  0.119568  0.097800\n",
       "best_model_fold2.pt  0.076446  0.119909  0.098178\n",
       "best_model_fold3.pt  0.078067  0.105410  0.091738"
      ]
     },
     "execution_count": 18,
     "metadata": {},
     "output_type": "execute_result"
    }
   ],
   "source": [
    "from pathlib import Path\n",
    "from therapanacea_project.utils.files import load_yaml\n",
    "from therapanacea_project.evaluate.evaluate_cross_validation import cross_val_evaluation_from_config\n",
    "\n",
    "path_config = Path(\"therapanacea_project/configs/training/cross_validation//training_resnet18.yaml\")\n",
    "config = load_yaml(path_config)\n",
    "\n",
    "df_resnet_18 = cross_val_evaluation_from_config(config=config)\n",
    "df_resnet_18"
   ]
  },
  {
   "cell_type": "code",
   "execution_count": 19,
   "id": "9f23b909-d50e-4089-997e-06ee02377f9e",
   "metadata": {},
   "outputs": [
    {
     "data": {
      "text/plain": [
       "(far     0.083291\n",
       " frr     0.107727\n",
       " hter    0.095509\n",
       " dtype: float64,\n",
       " far     0.011849\n",
       " frr     0.012881\n",
       " hter    0.002812\n",
       " dtype: float64)"
      ]
     },
     "execution_count": 19,
     "metadata": {},
     "output_type": "execute_result"
    }
   ],
   "source": [
    "df_resnet_18.mean() , df_resnet_18.std() "
   ]
  },
  {
   "cell_type": "markdown",
   "id": "bda2be8f-5857-4934-b77a-a3faa8bf5cca",
   "metadata": {},
   "source": [
    "# Results resnet34"
   ]
  },
  {
   "cell_type": "code",
   "execution_count": 20,
   "id": "563507da-b70c-4cb6-9e8c-b6b28f08fe7e",
   "metadata": {},
   "outputs": [
    {
     "data": {
      "text/html": [
       "<div>\n",
       "<style scoped>\n",
       "    .dataframe tbody tr th:only-of-type {\n",
       "        vertical-align: middle;\n",
       "    }\n",
       "\n",
       "    .dataframe tbody tr th {\n",
       "        vertical-align: top;\n",
       "    }\n",
       "\n",
       "    .dataframe thead th {\n",
       "        text-align: right;\n",
       "    }\n",
       "</style>\n",
       "<table border=\"1\" class=\"dataframe\">\n",
       "  <thead>\n",
       "    <tr style=\"text-align: right;\">\n",
       "      <th></th>\n",
       "      <th>far</th>\n",
       "      <th>frr</th>\n",
       "      <th>hter</th>\n",
       "    </tr>\n",
       "    <tr>\n",
       "      <th>fold</th>\n",
       "      <th></th>\n",
       "      <th></th>\n",
       "      <th></th>\n",
       "    </tr>\n",
       "  </thead>\n",
       "  <tbody>\n",
       "    <tr>\n",
       "      <th>best_model_fold4.pt</th>\n",
       "      <td>0.090045</td>\n",
       "      <td>0.103646</td>\n",
       "      <td>0.096846</td>\n",
       "    </tr>\n",
       "    <tr>\n",
       "      <th>best_model_fold0.pt</th>\n",
       "      <td>0.098760</td>\n",
       "      <td>0.097725</td>\n",
       "      <td>0.098243</td>\n",
       "    </tr>\n",
       "    <tr>\n",
       "      <th>best_model_fold1.pt</th>\n",
       "      <td>0.076860</td>\n",
       "      <td>0.116496</td>\n",
       "      <td>0.096678</td>\n",
       "    </tr>\n",
       "    <tr>\n",
       "      <th>best_model_fold2.pt</th>\n",
       "      <td>0.060331</td>\n",
       "      <td>0.135154</td>\n",
       "      <td>0.097742</td>\n",
       "    </tr>\n",
       "    <tr>\n",
       "      <th>best_model_fold3.pt</th>\n",
       "      <td>0.084263</td>\n",
       "      <td>0.111212</td>\n",
       "      <td>0.097737</td>\n",
       "    </tr>\n",
       "  </tbody>\n",
       "</table>\n",
       "</div>"
      ],
      "text/plain": [
       "                          far       frr      hter\n",
       "fold                                             \n",
       "best_model_fold4.pt  0.090045  0.103646  0.096846\n",
       "best_model_fold0.pt  0.098760  0.097725  0.098243\n",
       "best_model_fold1.pt  0.076860  0.116496  0.096678\n",
       "best_model_fold2.pt  0.060331  0.135154  0.097742\n",
       "best_model_fold3.pt  0.084263  0.111212  0.097737"
      ]
     },
     "execution_count": 20,
     "metadata": {},
     "output_type": "execute_result"
    }
   ],
   "source": [
    "from pathlib import Path\n",
    "from therapanacea_project.utils.files import load_yaml\n",
    "from therapanacea_project.evaluate.evaluate_cross_validation import cross_val_evaluation_from_config\n",
    "\n",
    "path_config = Path(\"therapanacea_project/configs/training/cross_validation//training_resnet34.yaml\")\n",
    "config = load_yaml(path_config)\n",
    "\n",
    "df_resnet_34 = cross_val_evaluation_from_config(config=config)\n",
    "df_resnet_34"
   ]
  },
  {
   "cell_type": "code",
   "execution_count": 21,
   "id": "3b779389-9a5c-45e7-822d-4c915b3d6afe",
   "metadata": {},
   "outputs": [
    {
     "data": {
      "text/plain": [
       "(far     0.082052\n",
       " frr     0.112847\n",
       " hter    0.097449\n",
       " dtype: float64,\n",
       " far     0.014549\n",
       " frr     0.014378\n",
       " hter    0.000663\n",
       " dtype: float64)"
      ]
     },
     "execution_count": 21,
     "metadata": {},
     "output_type": "execute_result"
    }
   ],
   "source": [
    "df_resnet_34.mean() , df_resnet_34.std() "
   ]
  },
  {
   "cell_type": "code",
   "execution_count": 22,
   "id": "f51caac1-71dd-4870-9f1c-fdad20db900e",
   "metadata": {},
   "outputs": [
    {
     "data": {
      "text/plain": [
       "(far     0.083291\n",
       " frr     0.107727\n",
       " hter    0.095509\n",
       " dtype: float64,\n",
       " far     0.011849\n",
       " frr     0.012881\n",
       " hter    0.002812\n",
       " dtype: float64)"
      ]
     },
     "execution_count": 22,
     "metadata": {},
     "output_type": "execute_result"
    }
   ],
   "source": [
    "df_resnet_18.mean() , df_resnet_18.std() "
   ]
  },
  {
   "cell_type": "code",
   "execution_count": null,
   "id": "b01ffa97-3789-4c94-89e2-1c4544d3f8a0",
   "metadata": {},
   "outputs": [],
   "source": []
  }
 ],
 "metadata": {
  "kernelspec": {
   "display_name": "Python 3 (ipykernel)",
   "language": "python",
   "name": "python3"
  },
  "language_info": {
   "codemirror_mode": {
    "name": "ipython",
    "version": 3
   },
   "file_extension": ".py",
   "mimetype": "text/x-python",
   "name": "python",
   "nbconvert_exporter": "python",
   "pygments_lexer": "ipython3",
   "version": "3.10.5"
  }
 },
 "nbformat": 4,
 "nbformat_minor": 5
}
